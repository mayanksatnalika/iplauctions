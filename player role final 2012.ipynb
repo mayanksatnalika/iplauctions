{
 "cells": [
  {
   "cell_type": "code",
   "execution_count": 9,
   "metadata": {
    "collapsed": true
   },
   "outputs": [],
   "source": [
    "from bs4 import BeautifulSoup \n",
    "import urllib2\n",
    "import numpy as np\n",
    "import pandas as pd\n",
    "import matplotlib.pyplot as plt"
   ]
  },
  {
   "cell_type": "code",
   "execution_count": 10,
   "metadata": {
    "collapsed": false,
    "scrolled": false
   },
   "outputs": [
    {
     "name": "stdout",
     "output_type": "stream",
     "text": [
      "http://www.espncricinfo.com/ci/content/player/330408.html\n",
      "Playing role Allrounder\n",
      "http://www.espncricinfo.com/ci/content/player/44149.html\n",
      "Playing role Allrounder\n",
      "http://www.espncricinfo.com/ci/content/player/4864.html\n",
      "Playing role Allrounder\n",
      "http://www.espncricinfo.com/ci/content/player/4578.html\n",
      "Playing role Middle-order batsman\n",
      "http://www.espncricinfo.com/ci/content/player/261354.html\n",
      "Playing role Bowler\n",
      "http://www.espncricinfo.com/ci/content/player/574178.html\n",
      "Playing role Allrounder\n",
      "http://www.espncricinfo.com/ci/content/player/379143.html\n",
      "Playing role Wicketkeeper batsman\n",
      "http://www.espncricinfo.com/ci/content/player/51782.html\n",
      "Playing role Bowler\n",
      "http://www.espncricinfo.com/ci/content/player/270484.html\n",
      "Playing role Bowling allrounder\n",
      "http://www.espncricinfo.com/ci/content/player/317293.html\n",
      "Playing role Bowler\n",
      "http://www.espncricinfo.com/ci/content/player/5961.html\n",
      "Playing role Allrounder\n",
      "http://www.espncricinfo.com/ci/content/player/391485.html\n",
      "Playing role Bowling allrounder\n",
      "http://www.espncricinfo.com/ci/content/player/272364.html\n",
      "Playing role Opening batsman\n",
      "http://www.espncricinfo.com/ci/content/player/315623.html\n",
      "Playing role Bowler\n",
      "http://www.espncricinfo.com/ci/content/player/325026.html\n",
      "Playing role Batting allrounder\n",
      "http://www.espncricinfo.com/ci/content/player/37749.html\n",
      "Playing role Bowler\n",
      "http://www.espncricinfo.com/ci/content/player/6903.html\n",
      "Playing role Bowler\n",
      "http://www.espncricinfo.com/ci/content/player/46393.html\n",
      "Playing role Allrounder\n",
      "http://www.espncricinfo.com/ci/content/player/268739.html\n",
      "Playing role Bowler\n",
      "http://www.espncricinfo.com/ci/content/player/49700.html\n",
      "Playing role Allrounder\n",
      "http://www.espncricinfo.com/ci/content/player/439952.html\n",
      "Playing role Bowling allrounder\n",
      "http://www.espncricinfo.com/ci/content/player/6981.html\n",
      "Playing role Bowler\n",
      "http://www.espncricinfo.com/ci/content/player/38062.html\n",
      "Playing role Allrounder\n",
      "http://www.espncricinfo.com/ci/content/player/233514.html\n",
      "Playing role Allrounder\n",
      "http://www.espncricinfo.com/ci/content/player/232284.html\n",
      "Playing role Batsman\n",
      "http://www.espncricinfo.com/ci/content/player/7133.html\n",
      "Playing role Top-order batsman\n",
      "http://www.espncricinfo.com/ci/content/player/52912.html\n",
      "Playing role Bowler\n",
      "http://www.espncricinfo.com/ci/content/player/272262.html\n",
      "Playing role Bowler\n",
      "http://www.espncricinfo.com/ci/content/player/38373.html\n",
      "Playing role Allrounder\n",
      "http://www.espncricinfo.com/ci/content/player/53115.html\n",
      "Playing role Allrounder\n",
      "http://www.espncricinfo.com/ci/content/player/32973.html\n",
      "Playing role Bowler\n",
      "http://www.espncricinfo.com/ci/content/player/34057.html\n",
      "http://www.espncricinfo.com/ci/content/player/317784.html\n",
      "Playing role Bowler\n",
      "http://www.espncricinfo.com/ci/content/player/390484.html\n",
      "Playing role Bowler\n"
     ]
    }
   ],
   "source": [
    "p_name = []\n",
    "role = []\n",
    "pidList = pd.read_csv('s2013cricinfo_playerids.csv')\n",
    "pnames= pidList['pname']\n",
    "pid= pidList['id']\n",
    "for i in range(0,len(pid)):\n",
    "    url = 'http://www.espncricinfo.com/ci/content/player/' + str(pid[i]) + '.html' \n",
    "    print url\n",
    "    page=urllib2.urlopen(url)\n",
    "    soup = BeautifulSoup(page.read(),'html.parser')\n",
    "    divinfo = soup.findAll('p',{'class':'ciPlayerinformationtxt'})\n",
    "    for div in divinfo:\n",
    "        #print div.text\n",
    "        if(str(div.text).find('Playing role')!=-1):\n",
    "            print div.text\n",
    "            if(div.text.find('batsman')!=-1 or div.text.find('Allrounder')!=-1 or div.text.find('allrounder')!=-1 ):\n",
    "                role.append(1)\n",
    "                p_name.append(pnames[i])\n",
    "                break\n",
    "            else:\n",
    "                role.append(0)\n",
    "                p_name.append(pnames[i])\n",
    "                break\n",
    "            "
   ]
  },
  {
   "cell_type": "code",
   "execution_count": 14,
   "metadata": {
    "collapsed": false
   },
   "outputs": [],
   "source": [
    "df = pd.DataFrame()\n",
    "df['role'] = role\n",
    "df['pname'] = p_name"
   ]
  },
  {
   "cell_type": "code",
   "execution_count": 15,
   "metadata": {
    "collapsed": true
   },
   "outputs": [],
   "source": [
    "df.to_csv('player_role2013.csv')"
   ]
  },
  {
   "cell_type": "code",
   "execution_count": 16,
   "metadata": {
    "collapsed": false
   },
   "outputs": [
    {
     "data": {
      "text/plain": [
       "33"
      ]
     },
     "execution_count": 16,
     "metadata": {},
     "output_type": "execute_result"
    }
   ],
   "source": [
    "len(df)"
   ]
  },
  {
   "cell_type": "code",
   "execution_count": null,
   "metadata": {
    "collapsed": true
   },
   "outputs": [],
   "source": []
  }
 ],
 "metadata": {
  "anaconda-cloud": {},
  "kernelspec": {
   "display_name": "Python [default]",
   "language": "python",
   "name": "python2"
  },
  "language_info": {
   "codemirror_mode": {
    "name": "ipython",
    "version": 2
   },
   "file_extension": ".py",
   "mimetype": "text/x-python",
   "name": "python",
   "nbconvert_exporter": "python",
   "pygments_lexer": "ipython2",
   "version": "2.7.12"
  }
 },
 "nbformat": 4,
 "nbformat_minor": 1
}
