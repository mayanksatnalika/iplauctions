{
 "cells": [
  {
   "cell_type": "code",
   "execution_count": 1,
   "metadata": {
    "collapsed": false
   },
   "outputs": [
    {
     "name": "stdout",
     "output_type": "stream",
     "text": [
      "imported files\n"
     ]
    }
   ],
   "source": [
    "from bs4 import BeautifulSoup\n",
    "import urllib2\n",
    "import pandas as pd\n",
    "import numpy as np\n",
    "from dateutil import parser\n",
    "import os.path\n",
    "print 'imported files'"
   ]
  },
  {
   "cell_type": "code",
   "execution_count": 8,
   "metadata": {
    "collapsed": false,
    "scrolled": false
   },
   "outputs": [
    {
     "name": "stdout",
     "output_type": "stream",
     "text": [
      "493\n"
     ]
    }
   ],
   "source": [
    "auc2014 = pd.read_csv('all_years.csv')\n",
    "pnames= []\n",
    "players = auc2014['player_name']\n",
    "for play in players:\n",
    "    #print play\n",
    "    pnames.append(str(play.replace(' ','+')))\n",
    "print(len(auc2014))"
   ]
  },
  {
   "cell_type": "code",
   "execution_count": null,
   "metadata": {
    "collapsed": false
   },
   "outputs": [
    {
     "name": "stdout",
     "output_type": "stream",
     "text": [
      "http://www.bing.com/search?q=espncricinfo+player+Gautam+Gambhir\n",
      "bing sorted\n",
      "0\n",
      "http://www.bing.com/search?q=espncricinfo+player+Yusuf+Pathan\n",
      "bing sorted\n",
      "1\n",
      "http://www.bing.com/search?q=espncricinfo+player+Robin+Uthappa\n",
      "bing sorted\n",
      "2\n",
      "http://www.bing.com/search?q=espncricinfo+player+Rohit+Sharma\n",
      "http://www.bing.com/search?q=espncricinfo+player+Irfan+Pathan\n",
      "bing sorted\n",
      "3\n",
      "http://www.bing.com/search?q=espncricinfo+player+Yuvraj+Singh\n",
      "bing sorted\n",
      "4\n",
      "http://www.bing.com/search?q=espncricinfo+player+Saurabh+Tiwary\n",
      "bing sorted\n",
      "5\n",
      "http://www.bing.com/search?q=espncricinfo+player+Mahela+Jayawardene\n",
      "bing sorted\n",
      "6\n",
      "http://www.bing.com/search?q=espncricinfo+player+David+Hussey\n"
     ]
    }
   ],
   "source": [
    "player_id = []\n",
    "cnt = 0\n",
    "p_name = []\n",
    "for player_name in pnames:\n",
    "    \n",
    "    try:\n",
    "        url = 'http://www.bing.com/search?q=espncricinfo+player+' + player_name\n",
    "        print url\n",
    "        opener = urllib2.build_opener()\n",
    "        opener.addheaders = [('User-agent', 'Mozilla/5.0')]\n",
    "        page = opener.open(url)\n",
    "        soup = BeautifulSoup(page.read(),\"html.parser\")\n",
    "        #print 'bing sorted'\n",
    "        #finding list a and t20 urls\n",
    "        divs = soup.findAll('div',{'class':'b_attribution'})\n",
    "        for div in divs:\n",
    "            if (div.text.find('content/player')!=-1):\n",
    "                #print div.text\n",
    "                parts = div.text.rsplit('/', 1)\n",
    "                #print parts[-1]\n",
    "                player_id.append(int((parts[-1].split('.'))[0]))\n",
    "                p_name.append(player_name)\n",
    "                print cnt\n",
    "                cnt+=1\n",
    "                break\n",
    "\n",
    "    except:\n",
    "        continue"
   ]
  },
  {
   "cell_type": "code",
   "execution_count": null,
   "metadata": {
    "collapsed": true
   },
   "outputs": [],
   "source": []
  }
 ],
 "metadata": {
  "kernelspec": {
   "display_name": "Python [default]",
   "language": "python",
   "name": "python2"
  },
  "language_info": {
   "codemirror_mode": {
    "name": "ipython",
    "version": 2
   },
   "file_extension": ".py",
   "mimetype": "text/x-python",
   "name": "python",
   "nbconvert_exporter": "python",
   "pygments_lexer": "ipython2",
   "version": "2.7.12"
  }
 },
 "nbformat": 4,
 "nbformat_minor": 1
}
