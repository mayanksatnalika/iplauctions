{
 "cells": [
  {
   "cell_type": "code",
   "execution_count": 53,
   "metadata": {
    "collapsed": false
   },
   "outputs": [],
   "source": [
    "from bs4 import BeautifulSoup\n",
    "import urllib2\n",
    "import pandas as pd\n",
    "import numpy as np"
   ]
  },
  {
   "cell_type": "code",
   "execution_count": 54,
   "metadata": {
    "collapsed": true
   },
   "outputs": [],
   "source": [
    "url2016 = 'https://en.wikipedia.org/wiki/List_of_2016_Indian_Premier_League_personnel_changes'\n",
    "url2015 = 'https://en.wikipedia.org/wiki/List_of_2015_Indian_Premier_League_personnel_changes'\n",
    "url2014 = 'https://en.wikipedia.org/wiki/List_of_2014_Indian_Premier_League_personnel_changes'\n",
    "url2013 = 'https://en.wikipedia.org/wiki/List_of_2013_Indian_Premier_League_personnel_changes'\n",
    "url2012 = 'https://en.wikipedia.org/wiki/List_of_2012_Indian_Premier_League_personnel_changes'\n",
    "url2011 = 'https://en.wikipedia.org/wiki/List_of_2011_Indian_Premier_League_personnel_changes'"
   ]
  },
  {
   "cell_type": "code",
   "execution_count": 55,
   "metadata": {
    "collapsed": false,
    "scrolled": false
   },
   "outputs": [],
   "source": [
    "#YEAR 2016\n",
    "page = urllib2.urlopen(url2016)\n",
    "soup = BeautifulSoup(page.read(),'html.parser')\n",
    "tab = soup.findAll('table',attrs = {'class':'wikitable sortable'})\n",
    "req_table = tab[1]\n",
    "rows =  req_table.findAll('tr')\n",
    "\n",
    "team_name  = []\n",
    "player_name  = []\n",
    "ipl_team = []\n",
    "base_price = []\n",
    "buy_price = []\n",
    "\n",
    "\n",
    "for row in rows[1:]:\n",
    "    tds  = row.findAll('td')\n",
    "    lnk  = tds[1].find('a')\n",
    "    \n",
    "    team_name.append(str(tds[0].text))\n",
    "    player_name.append(str(lnk.text))\n",
    "    ipl_team.append(str(tds[2].text))\n",
    "    base_price.append(str(tds[3].text))\n",
    "    buy_price.append(str(tds[4].text))\n",
    "    \n",
    "df = pd.DataFrame()\n",
    "df['team_name'] = team_name\n",
    "df['player_name'] = player_name\n",
    "df['ipl_team'] = ipl_team\n",
    "df['base_price'] = base_price\n",
    "df['buy_price'] = buy_price\n",
    "df.to_csv('2016_auctions.csv')"
   ]
  },
  {
   "cell_type": "code",
   "execution_count": 56,
   "metadata": {
    "collapsed": false,
    "scrolled": false
   },
   "outputs": [],
   "source": [
    "#YEAR 2015\n",
    "page = urllib2.urlopen(url2015)\n",
    "#print soup\n",
    "soup = BeautifulSoup(page.read(),'html.parser')\n",
    "\n",
    "tab = soup.findAll('table',attrs = {'class':'wikitable sortable'})\n",
    "req_table = tab[1]\n",
    "rows =  req_table.findAll('tr')\n",
    "\n",
    "team_name  = []\n",
    "player_name  = []\n",
    "ipl_team = []\n",
    "base_price = []\n",
    "buy_price = []\n",
    "\n",
    "\n",
    "for row in rows[1:]:\n",
    "    tds  = row.findAll('td')\n",
    "    lnk  = tds[1].find('a')\n",
    "    \n",
    "    team_name.append(lnk.get('title'))\n",
    "    player_name.append(str(tds[0].text))\n",
    "    ipl_team.append(str(tds[7].text))\n",
    "    base_price.append(str(tds[6].text))\n",
    "    buy_price.append(str(tds[8].text))\n",
    "    \n",
    "df = pd.DataFrame()\n",
    "df['team_name'] = team_name\n",
    "df['player_name'] = player_name\n",
    "df['ipl_team'] = ipl_team\n",
    "df['base_price'] = base_price\n",
    "df['buy_price'] = buy_price\n",
    "df.to_csv('2015_auctions.csv')"
   ]
  },
  {
   "cell_type": "code",
   "execution_count": 57,
   "metadata": {
    "collapsed": false
   },
   "outputs": [
    {
     "name": "stdout",
     "output_type": "stream",
     "text": [
      "5\n"
     ]
    }
   ],
   "source": [
    "#YEAR 2014\n",
    "page = urllib2.urlopen(url2014)\n",
    "#print soup\n",
    "soup = BeautifulSoup(page.read(),'html.parser')\n",
    "\n",
    "tab = soup.findAll('table',attrs = {'class':'wikitable sortable'})\n",
    "req_table = tab[1]\n",
    "rows =  req_table.findAll('tr')\n",
    "print len(tab)\n",
    "team_name  = []\n",
    "player_name  = []\n",
    "ipl_team = []\n",
    "base_price = []\n",
    "buy_price = []\n",
    "\n",
    "\n",
    "for row in rows[1:]:\n",
    "    tds  = row.findAll('td')\n",
    "    \n",
    "    #print tds[2]\n",
    "    \n",
    "    lnk  = tds[3].find('a')\n",
    "    \n",
    "    team_name.append(lnk.get('title'))\n",
    "    player_name.append(str(tds[2].text))\n",
    "    ipl_team.append(str(tds[9].text))\n",
    "    base_price.append(str(tds[8].text))\n",
    "    buy_price.append(str(tds[10].text))\n",
    "    \n",
    "df = pd.DataFrame()\n",
    "df['team_name'] = team_name\n",
    "df['player_name'] = player_name\n",
    "df['ipl_team'] = ipl_team\n",
    "df['base_price'] = base_price\n",
    "df['buy_price'] = buy_price\n",
    "df.to_csv('2014_auctions.csv')"
   ]
  },
  {
   "cell_type": "code",
   "execution_count": 59,
   "metadata": {
    "collapsed": false
   },
   "outputs": [
    {
     "name": "stdout",
     "output_type": "stream",
     "text": [
      "3\n"
     ]
    }
   ],
   "source": [
    "#YEAR 2013\n",
    "page = urllib2.urlopen(url2013)\n",
    "#print soup\n",
    "soup = BeautifulSoup(page.read(),'html.parser')\n",
    "\n",
    "tab = soup.findAll('table',attrs = {'class':'wikitable sortable'})\n",
    "req_table = tab[2]\n",
    "rows =  req_table.findAll('tr')\n",
    "print len(tab)\n",
    "team_name  = []\n",
    "player_name  = []\n",
    "ipl_team = []\n",
    "base_price = []\n",
    "buy_price = []\n",
    "\n",
    "\n",
    "for row in rows[1:]:\n",
    "    tds  = row.findAll('td')\n",
    "    \n",
    "    #print tds[1]\n",
    "    \n",
    "    lnk  = tds[0].find('a')\n",
    "    lnk2  = tds[1].find('a')\n",
    "    \n",
    "    team_name.append(lnk.get('title'))\n",
    "    player_name.append(lnk2.text)\n",
    "    \n",
    "    ipl_team.append(str(tds[2].text))\n",
    "    base_price.append(str(tds[3].text))\n",
    "    buy_price.append(str(tds[4].text))\n",
    "    \n",
    "df = pd.DataFrame()\n",
    "df['team_name'] = team_name\n",
    "df['player_name'] = player_name\n",
    "df['ipl_team'] = ipl_team\n",
    "df['base_price'] = base_price\n",
    "df['buy_price'] = buy_price\n",
    "df.to_csv('2013_auctions.csv', header=True, index=False, encoding='utf-8')"
   ]
  },
  {
   "cell_type": "code",
   "execution_count": 60,
   "metadata": {
    "collapsed": false
   },
   "outputs": [
    {
     "name": "stdout",
     "output_type": "stream",
     "text": [
      "4\n"
     ]
    }
   ],
   "source": [
    "#YEAR 2012\n",
    "page = urllib2.urlopen(url2012)\n",
    "#print soup\n",
    "soup = BeautifulSoup(page.read(),'html.parser')\n",
    "\n",
    "tab = soup.findAll('table',attrs = {'class':'wikitable sortable'})\n",
    "req_table = tab[3]\n",
    "rows =  req_table.findAll('tr')\n",
    "print len(tab)\n",
    "team_name  = []\n",
    "player_name  = []\n",
    "ipl_team = []\n",
    "base_price = []\n",
    "buy_price = []\n",
    "\n",
    "\n",
    "for row in rows[1:]:\n",
    "    tds  = row.findAll('td')\n",
    "    \n",
    "    \n",
    "    lnk  = tds[2].find('a')\n",
    "    \n",
    "    team_name.append(lnk.get('title'))\n",
    "    player_name.append(str(tds[1].text))\n",
    "    ipl_team.append(str(tds[2].text))\n",
    "    base_price.append(str(tds[3].text))\n",
    "    buy_price.append(str(tds[4].text))\n",
    "    \n",
    "df = pd.DataFrame()\n",
    "df['team_name'] = team_name\n",
    "df['player_name'] = player_name\n",
    "df['ipl_team'] = ipl_team\n",
    "df['base_price'] = base_price\n",
    "df['buy_price'] = buy_price\n",
    "df.to_csv('2012_auctions.csv', header=True, index=False, encoding='utf-8')"
   ]
  },
  {
   "cell_type": "code",
   "execution_count": 61,
   "metadata": {
    "collapsed": false,
    "scrolled": false
   },
   "outputs": [],
   "source": [
    "#YEAR 2011\n",
    "\n",
    "page = urllib2.urlopen(url2011)\n",
    "#print soup\n",
    "soup = BeautifulSoup(page.read(),'html.parser')\n",
    "\n",
    "tab = soup.findAll('table',attrs = {'class':'wikitable sortable'})\n",
    "req_table = tab[0]\n",
    "rows =  req_table.findAll('tr')\n",
    "\n",
    "team_name  = []\n",
    "player_name  = []\n",
    "ipl_team = []\n",
    "base_price = []\n",
    "buy_price = []\n",
    "\n",
    "\n",
    "for row in rows[1:]:\n",
    "    tds  = row.findAll('td')\n",
    "    \n",
    "    \n",
    "    \n",
    "    lnk  = tds[0].find('a')\n",
    "    lnk2  = tds[1].find('a')\n",
    "    \n",
    "    team_name.append(lnk.get('title'))\n",
    "    player_name.append((lnk2.text))\n",
    "    ipl_team.append(str(tds[2].text))\n",
    "    base_price.append(str(tds[3].text))\n",
    "    buy_price.append(str(tds[4].text))\n",
    "    \n",
    "df = pd.DataFrame()\n",
    "df['team_name'] = team_name\n",
    "df['player_name'] = player_name\n",
    "df['ipl_team'] = ipl_team\n",
    "df['base_price'] = base_price\n",
    "df['buy_price'] = buy_price\n",
    "df.to_csv('2011_auctions.csv', header=True, index=False, encoding='utf-8')"
   ]
  },
  {
   "cell_type": "code",
   "execution_count": null,
   "metadata": {
    "collapsed": true
   },
   "outputs": [],
   "source": []
  }
 ],
 "metadata": {
  "anaconda-cloud": {},
  "kernelspec": {
   "display_name": "Python [default]",
   "language": "python",
   "name": "python2"
  },
  "language_info": {
   "codemirror_mode": {
    "name": "ipython",
    "version": 2
   },
   "file_extension": ".py",
   "mimetype": "text/x-python",
   "name": "python",
   "nbconvert_exporter": "python",
   "pygments_lexer": "ipython2",
   "version": "2.7.12"
  }
 },
 "nbformat": 4,
 "nbformat_minor": 1
}
