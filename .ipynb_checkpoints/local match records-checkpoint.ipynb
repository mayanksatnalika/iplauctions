{
 "cells": [
  {
   "cell_type": "code",
   "execution_count": 1,
   "metadata": {
    "collapsed": false
   },
   "outputs": [],
   "source": [
    "from bs4 import BeautifulSoup\n",
    "import urllib2\n",
    "import pandas as pd\n",
    "import numpy as np\n",
    "from dateutil import parser"
   ]
  },
  {
   "cell_type": "code",
   "execution_count": 2,
   "metadata": {
    "collapsed": true
   },
   "outputs": [],
   "source": [
    "url  ='http://www.bing.com/search?q=cricketarchive.com+player+ms+dhoni'\n",
    "opener = urllib2.build_opener()\n",
    "opener.addheaders = [('User-agent', 'Mozilla/5.0')]\n",
    "page = opener.open(url)\n",
    "soup = BeautifulSoup(page.read(),\"html.parser\")"
   ]
  },
  {
   "cell_type": "code",
   "execution_count": 3,
   "metadata": {
    "collapsed": false
   },
   "outputs": [
    {
     "name": "stdout",
     "output_type": "stream",
     "text": [
      "cricketarchive.com/Archive/Players/7/7561/7561.html\n",
      "7/7561\n"
     ]
    }
   ],
   "source": [
    "linktext = []\n",
    "divs = soup.findAll('div',{'class':'b_attribution'})\n",
    "for div in divs:\n",
    "    if str(div.text).find('cricketarchive.com/Archive/Players') != -1:\n",
    "        \n",
    "        print div.text\n",
    "        s1 = div.text\n",
    "        s2 = 'cricketarchive.com/Archive/Players'\n",
    "        req_str =  s1[s1.index(s2) + len(s2):]\n",
    "        wrds =  req_str.split('/')\n",
    "        final_str = wrds[1]+ '/' + wrds[2]\n",
    "        print final_str\n",
    "        listA_url = str('http://cricketarchive.com/Archive/Players/'+final_str+'/List_A_Matches.html')\n",
    "        t20_url =   str('http://cricketarchive.com/Archive/Players/'+final_str+'/Twenty20_Matches.html')\n",
    "\n",
    "        break\n",
    "    linktext.append(div.text)"
   ]
  },
  {
   "cell_type": "code",
   "execution_count": 63,
   "metadata": {
    "collapsed": false,
    "scrolled": true
   },
   "outputs": [
    {
     "data": {
      "text/plain": [
       "'http://cricketarchive.com/Archive/Players/7/7561/List_A_Matches.html'"
      ]
     },
     "execution_count": 63,
     "metadata": {},
     "output_type": "execute_result"
    }
   ],
   "source": [
    "listA_url"
   ]
  },
  {
   "cell_type": "code",
   "execution_count": 64,
   "metadata": {
    "collapsed": true
   },
   "outputs": [],
   "source": [
    "t20_url\n",
    "page = opener.open(listA_url)\n",
    "soup = BeautifulSoup(page.read(),\"html.parser\")\n",
    "table = soup.findAll('table')"
   ]
  },
  {
   "cell_type": "code",
   "execution_count": 65,
   "metadata": {
    "collapsed": false,
    "scrolled": false
   },
   "outputs": [
    {
     "name": "stdout",
     "output_type": "stream",
     "text": [
      "2010-01-11\n",
      "http://cricketarchive.com//Archive/Scorecards/261/261636.html\n",
      "32\n",
      "35\n",
      "2010-01-13\n",
      "http://cricketarchive.com//Archive/Scorecards/261/261637.html\n",
      "14\n",
      "19\n",
      "2010-02-21\n",
      "http://cricketarchive.com//Archive/Scorecards/276/276167.html\n",
      "26\n",
      "29\n",
      "2010-02-24\n",
      "http://cricketarchive.com//Archive/Scorecards/276/276168.html\n",
      "68\n",
      "35\n",
      "2010-02-27\n",
      "http://cricketarchive.com//Archive/Scorecards/276/276169.html\n",
      "9\n",
      "7\n",
      "2010-06-16\n",
      "http://cricketarchive.com//Archive/Scorecards/289/289653.html\n",
      "38\n",
      "45\n",
      "2010-06-19\n",
      "http://cricketarchive.com//Archive/Scorecards/289/289655.html\n",
      "56\n",
      "71\n",
      "2010-06-22\n",
      "http://cricketarchive.com//Archive/Scorecards/289/289657.html\n",
      "41\n",
      "53\n",
      "2010-06-24\n",
      "http://cricketarchive.com//Archive/Scorecards/289/289658.html\n",
      "38\n",
      "50\n",
      "2010-08-10\n",
      "http://cricketarchive.com//Archive/Scorecards/292/292367.html\n",
      "2\n",
      "9\n",
      "2010-08-16\n",
      "http://cricketarchive.com//Archive/Scorecards/292/292369.html\n",
      "23\n",
      "38\n",
      "2010-08-22\n",
      "http://cricketarchive.com//Archive/Scorecards/292/292372.html\n",
      "10\n",
      "16\n",
      "2010-08-25\n",
      "http://cricketarchive.com//Archive/Scorecards/292/292371.html\n",
      "38\n",
      "75\n",
      "2010-08-28\n",
      "http://cricketarchive.com//Archive/Scorecards/292/292373.html\n",
      "67\n",
      "100\n",
      "2010-10-20\n",
      "http://cricketarchive.com//Archive/Scorecards/305/305585.html\n",
      "0\n",
      "1\n"
     ]
    }
   ],
   "source": [
    "rows =  table[0].findAll('tr')\n",
    "#print rows[0]\n",
    "date_start  = '2010-01-10'\n",
    "date_end  = '2011-01-10'\n",
    "\n",
    "for row in rows:\n",
    "    tds  = row.findAll('td')\n",
    "    #print tds[1].text\n",
    "    date  = parser.parse(str(tds[1].text))\n",
    "    if date > parser.parse(date_start) and date < parser.parse(date_end):\n",
    "        print date.date()\n",
    "        mlink = tds[4].find('a')\n",
    "        match_link = 'http://cricketarchive.com/' + mlink['href']\n",
    "        print match_link\n",
    "        match_page = opener.open(match_link)\n",
    "        match_soup = BeautifulSoup(match_page.read(),\"html.parser\")\n",
    "        #print match_soup\n",
    "        \n",
    "        found  = 0\n",
    "        tabs = match_soup.findAll('table')\n",
    "        \n",
    "        \n",
    "        rows = tabs[3].findAll('tr')\n",
    "        for row in rows:\n",
    "            tds  = row.findAll('td')\n",
    "            #print tds[0]\n",
    "            if tds[0].find('a'):\n",
    "                link_text =  tds[0].find('a')['href']\n",
    "                if link_text.find(final_str) != -1:\n",
    "                    print tds[2].text\n",
    "                    print tds[3].text\n",
    "                    found =  1\n",
    "        if (found== 1 ):\n",
    "            continue\n",
    "            \n",
    "            \n",
    "        rows = tabs[1].findAll('tr')\n",
    "        for row in rows:\n",
    "            tds  = row.findAll('td')\n",
    "            #print tds[0]\n",
    "            if tds[0].find('a'):\n",
    "                link_text =  tds[0].find('a')['href']\n",
    "                if link_text.find(final_str) != -1:\n",
    "                    print tds[2].text\n",
    "                    print tds[3].text      "
   ]
  },
  {
   "cell_type": "code",
   "execution_count": null,
   "metadata": {
    "collapsed": true
   },
   "outputs": [],
   "source": []
  }
 ],
 "metadata": {
  "anaconda-cloud": {},
  "kernelspec": {
   "display_name": "Python [default]",
   "language": "python",
   "name": "python2"
  },
  "language_info": {
   "codemirror_mode": {
    "name": "ipython",
    "version": 2
   },
   "file_extension": ".py",
   "mimetype": "text/x-python",
   "name": "python",
   "nbconvert_exporter": "python",
   "pygments_lexer": "ipython2",
   "version": "2.7.12"
  }
 },
 "nbformat": 4,
 "nbformat_minor": 1
}
